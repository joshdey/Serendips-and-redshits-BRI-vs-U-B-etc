{
 "cells": [
  {
   "cell_type": "code",
   "execution_count": 1,
   "metadata": {},
   "outputs": [],
   "source": [
    "import pandas as pd\n",
    "import matplotlib.pyplot as plt\n",
    "from astropy.table import Table"
   ]
  },
  {
   "cell_type": "code",
   "execution_count": 2,
   "metadata": {
    "scrolled": true
   },
   "outputs": [
    {
     "data": {
      "text/html": [
       "<div>\n",
       "<style scoped>\n",
       "    .dataframe tbody tr th:only-of-type {\n",
       "        vertical-align: middle;\n",
       "    }\n",
       "\n",
       "    .dataframe tbody tr th {\n",
       "        vertical-align: top;\n",
       "    }\n",
       "\n",
       "    .dataframe thead th {\n",
       "        text-align: right;\n",
       "    }\n",
       "</style>\n",
       "<table border=\"1\" class=\"dataframe\">\n",
       "  <thead>\n",
       "    <tr style=\"text-align: right;\">\n",
       "      <th></th>\n",
       "      <th>OBJNO</th>\n",
       "      <th>RA</th>\n",
       "      <th>DEC</th>\n",
       "      <th>MAGB</th>\n",
       "      <th>MAGR</th>\n",
       "      <th>MAGI</th>\n",
       "      <th>MAGBERR</th>\n",
       "      <th>MAGRERR</th>\n",
       "      <th>MAGIERR</th>\n",
       "      <th>RG</th>\n",
       "      <th>...</th>\n",
       "      <th>ZBEST</th>\n",
       "      <th>ZERR</th>\n",
       "      <th>ZQUALITY</th>\n",
       "      <th>CLASS</th>\n",
       "      <th>SUBCLASS</th>\n",
       "      <th>RCHI2</th>\n",
       "      <th>DOF</th>\n",
       "      <th>VDISP</th>\n",
       "      <th>VDISPERR</th>\n",
       "      <th>COMMENT</th>\n",
       "    </tr>\n",
       "  </thead>\n",
       "  <tbody>\n",
       "    <tr>\n",
       "      <th>0</th>\n",
       "      <td>11001673</td>\n",
       "      <td>213.868704</td>\n",
       "      <td>51.956445</td>\n",
       "      <td>23.487745</td>\n",
       "      <td>23.143082</td>\n",
       "      <td>22.582092</td>\n",
       "      <td>0.026491</td>\n",
       "      <td>0.022043</td>\n",
       "      <td>0.029253</td>\n",
       "      <td>1.369818</td>\n",
       "      <td>...</td>\n",
       "      <td>-1.000000</td>\n",
       "      <td>999.900024</td>\n",
       "      <td>2</td>\n",
       "      <td>b'NONE  '</td>\n",
       "      <td>b'NONE  '</td>\n",
       "      <td>0.630934</td>\n",
       "      <td>57</td>\n",
       "      <td>999.900024</td>\n",
       "      <td>999.900024</td>\n",
       "      <td>b'bcol; bext                                  ...</td>\n",
       "    </tr>\n",
       "    <tr>\n",
       "      <th>1</th>\n",
       "      <td>11001699</td>\n",
       "      <td>213.810471</td>\n",
       "      <td>51.942316</td>\n",
       "      <td>22.067692</td>\n",
       "      <td>20.034674</td>\n",
       "      <td>19.545080</td>\n",
       "      <td>0.009000</td>\n",
       "      <td>0.001478</td>\n",
       "      <td>0.002079</td>\n",
       "      <td>1.957290</td>\n",
       "      <td>...</td>\n",
       "      <td>0.290608</td>\n",
       "      <td>0.000043</td>\n",
       "      <td>4</td>\n",
       "      <td>b'GALAXY'</td>\n",
       "      <td>b'NONE  '</td>\n",
       "      <td>1.178153</td>\n",
       "      <td>5901</td>\n",
       "      <td>166.334991</td>\n",
       "      <td>49.481255</td>\n",
       "      <td>b'                                            ...</td>\n",
       "    </tr>\n",
       "    <tr>\n",
       "      <th>2</th>\n",
       "      <td>11001770</td>\n",
       "      <td>213.848431</td>\n",
       "      <td>51.948876</td>\n",
       "      <td>24.144438</td>\n",
       "      <td>24.103180</td>\n",
       "      <td>24.020006</td>\n",
       "      <td>0.068268</td>\n",
       "      <td>0.076603</td>\n",
       "      <td>0.152493</td>\n",
       "      <td>2.184211</td>\n",
       "      <td>...</td>\n",
       "      <td>-1.000000</td>\n",
       "      <td>-5.000000</td>\n",
       "      <td>1</td>\n",
       "      <td>b'GALAXY'</td>\n",
       "      <td>b'NONE  '</td>\n",
       "      <td>1.047260</td>\n",
       "      <td>5318</td>\n",
       "      <td>184.860001</td>\n",
       "      <td>195.000000</td>\n",
       "      <td>b'                                            ...</td>\n",
       "    </tr>\n",
       "    <tr>\n",
       "      <th>3</th>\n",
       "      <td>11001800</td>\n",
       "      <td>213.831758</td>\n",
       "      <td>51.952548</td>\n",
       "      <td>25.336836</td>\n",
       "      <td>23.508480</td>\n",
       "      <td>23.081087</td>\n",
       "      <td>0.169422</td>\n",
       "      <td>0.033245</td>\n",
       "      <td>0.049654</td>\n",
       "      <td>1.795907</td>\n",
       "      <td>...</td>\n",
       "      <td>-1.000000</td>\n",
       "      <td>-5.000000</td>\n",
       "      <td>1</td>\n",
       "      <td>b'GALAXY'</td>\n",
       "      <td>b'NONE  '</td>\n",
       "      <td>1.014062</td>\n",
       "      <td>5788</td>\n",
       "      <td>0.000000</td>\n",
       "      <td>0.000000</td>\n",
       "      <td>b'                                            ...</td>\n",
       "    </tr>\n",
       "    <tr>\n",
       "      <th>4</th>\n",
       "      <td>11001860</td>\n",
       "      <td>213.832550</td>\n",
       "      <td>51.954174</td>\n",
       "      <td>24.382738</td>\n",
       "      <td>23.401484</td>\n",
       "      <td>22.572845</td>\n",
       "      <td>0.079261</td>\n",
       "      <td>0.033940</td>\n",
       "      <td>0.035031</td>\n",
       "      <td>2.023320</td>\n",
       "      <td>...</td>\n",
       "      <td>0.957669</td>\n",
       "      <td>0.000099</td>\n",
       "      <td>4</td>\n",
       "      <td>b'GALAXY'</td>\n",
       "      <td>b'NONE  '</td>\n",
       "      <td>1.039979</td>\n",
       "      <td>5952</td>\n",
       "      <td>109.394997</td>\n",
       "      <td>17.208755</td>\n",
       "      <td>b'                                            ...</td>\n",
       "    </tr>\n",
       "  </tbody>\n",
       "</table>\n",
       "<p>5 rows × 36 columns</p>\n",
       "</div>"
      ],
      "text/plain": [
       "      OBJNO          RA        DEC       MAGB       MAGR       MAGI   MAGBERR  \\\n",
       "0  11001673  213.868704  51.956445  23.487745  23.143082  22.582092  0.026491   \n",
       "1  11001699  213.810471  51.942316  22.067692  20.034674  19.545080  0.009000   \n",
       "2  11001770  213.848431  51.948876  24.144438  24.103180  24.020006  0.068268   \n",
       "3  11001800  213.831758  51.952548  25.336836  23.508480  23.081087  0.169422   \n",
       "4  11001860  213.832550  51.954174  24.382738  23.401484  22.572845  0.079261   \n",
       "\n",
       "    MAGRERR   MAGIERR        RG  ...     ZBEST        ZERR  ZQUALITY  \\\n",
       "0  0.022043  0.029253  1.369818  ... -1.000000  999.900024         2   \n",
       "1  0.001478  0.002079  1.957290  ...  0.290608    0.000043         4   \n",
       "2  0.076603  0.152493  2.184211  ... -1.000000   -5.000000         1   \n",
       "3  0.033245  0.049654  1.795907  ... -1.000000   -5.000000         1   \n",
       "4  0.033940  0.035031  2.023320  ...  0.957669    0.000099         4   \n",
       "\n",
       "       CLASS   SUBCLASS     RCHI2   DOF       VDISP    VDISPERR  \\\n",
       "0  b'NONE  '  b'NONE  '  0.630934    57  999.900024  999.900024   \n",
       "1  b'GALAXY'  b'NONE  '  1.178153  5901  166.334991   49.481255   \n",
       "2  b'GALAXY'  b'NONE  '  1.047260  5318  184.860001  195.000000   \n",
       "3  b'GALAXY'  b'NONE  '  1.014062  5788    0.000000    0.000000   \n",
       "4  b'GALAXY'  b'NONE  '  1.039979  5952  109.394997   17.208755   \n",
       "\n",
       "                                             COMMENT  \n",
       "0  b'bcol; bext                                  ...  \n",
       "1  b'                                            ...  \n",
       "2  b'                                            ...  \n",
       "3  b'                                            ...  \n",
       "4  b'                                            ...  \n",
       "\n",
       "[5 rows x 36 columns]"
      ]
     },
     "execution_count": 2,
     "metadata": {},
     "output_type": "execute_result"
    }
   ],
   "source": [
    "ztbl = Table.read('zcat.deep2.dr4.fits.gz', format='fits')\n",
    "zcat = ztbl.to_pandas() # convert to pandas dataframe\n",
    "zcat.head()"
   ]
  },
  {
   "cell_type": "code",
   "execution_count": 3,
   "metadata": {
    "scrolled": true
   },
   "outputs": [
    {
     "name": "stdout",
     "output_type": "stream",
     "text": [
      "Empty DataFrame\n",
      "Columns: [OBJNO, RA, DEC, MAGB, MAGR, MAGI, MAGBERR, MAGRERR, MAGIERR, RG, E2, PA, PGAL, SFD_EBV, M_B, UB, OBJNAME, MASK, SLIT, DATE, MJD, SLITRA, SLITDEC, SLITPA, SLITLEN, Z, ZBEST, ZERR, ZQUALITY, CLASS, SUBCLASS, RCHI2, DOF, VDISP, VDISPERR, COMMENT]\n",
      "Index: []\n",
      "\n",
      "[0 rows x 36 columns]\n"
     ]
    }
   ],
   "source": [
    "print(zcat.head(0))"
   ]
  },
  {
   "cell_type": "code",
   "execution_count": 4,
   "metadata": {},
   "outputs": [],
   "source": [
    "zcat = zcat[zcat['ZQUALITY'] >= 3] # remove stars/sources with low accuracy or no redshift calculations\n",
    "zcat = zcat[zcat['ZBEST'] != -1] # remove stars, redundant if ZQUALITY >= 3\n",
    "zcat = zcat[zcat['ZERR'] >= 0] # ZERR < 0 indicates problematic fit"
   ]
  },
  {
   "cell_type": "code",
   "execution_count": 5,
   "metadata": {},
   "outputs": [],
   "source": [
    "zcat_comms = zcat['COMMENT'].str.decode('UTF-8') # bytes to strings\n",
    "zcat = zcat.assign(COMSTR=zcat_comms.values) # add decoded comments as new column\n",
    "zcat_ser = zcat[zcat['COMSTR'].str.contains('ser')] # select rows with comments that refer to serendips\n",
    "zcat_not_ser = zcat[zcat['COMSTR'].str.contains('ser') == False] # untested; should select only non-serendip rows"
   ]
  },
  {
   "cell_type": "code",
   "execution_count": 6,
   "metadata": {},
   "outputs": [],
   "source": [
    "zcat_offser = zcat_ser[zcat_ser['COMSTR'].str.contains('offser')] # specify offset serendips\n",
    "zcat_supser = zcat_ser[zcat_ser['COMSTR'].str.contains('supser')] # specify superimposed serendips"
   ]
  },
  {
   "cell_type": "code",
   "execution_count": 7,
   "metadata": {},
   "outputs": [
    {
     "name": "stdout",
     "output_type": "stream",
     "text": [
      "36708\n",
      "181\n",
      "1168\n",
      "35387\n"
     ]
    }
   ],
   "source": [
    "print(len(zcat))\n",
    "print(len(zcat_supser))\n",
    "print(len(zcat_offser))\n",
    "print(len(zcat_not_ser)) #test to make sure serendip numbers match up with zcat_not_ser "
   ]
  },
  {
   "cell_type": "code",
   "execution_count": 8,
   "metadata": {},
   "outputs": [
    {
     "name": "stdout",
     "output_type": "stream",
     "text": [
      "Using matplotlib backend: Qt5Agg\n"
     ]
    },
    {
     "data": {
      "text/plain": [
       "Text(0.5, 1.0, 'Redshift Histogram')"
      ]
     },
     "execution_count": 8,
     "metadata": {},
     "output_type": "execute_result"
    }
   ],
   "source": [
    "%matplotlib auto\n",
    "#for closer view of diagram\n",
    "plt.figure(1) #redshift histogram\n",
    "plt.hist(zcat_not_ser['Z'], bins=50,range=(0,2.2), label='non-serendips')\n",
    "plt.hist(zcat_offser['Z'], bins=50, range=(0,2.2), label='offser')\n",
    "plt.hist(zcat_supser['Z'], bins=50, range=(0,2.2), color='black', label='supser')\n",
    "plt.xlabel('Redshift')\n",
    "plt.ylabel('# of galaxies')\n",
    "plt.legend(prop={'size': 10})\n",
    "plt.title('Redshift Histogram')"
   ]
  },
  {
   "cell_type": "code",
   "execution_count": 9,
   "metadata": {},
   "outputs": [
    {
     "data": {
      "text/plain": [
       "Text(0.5, 1.0, 'Redshift Histogram')"
      ]
     },
     "execution_count": 9,
     "metadata": {},
     "output_type": "execute_result"
    },
    {
     "data": {
      "image/png": "[encoded data removed]",
      "text/plain": [
       "<Figure size 432x288 with 1 Axes>"
      ]
     },
     "metadata": {
      "needs_background": "light"
     },
     "output_type": "display_data"
    }
   ],
   "source": [
    "%matplotlib inline\n",
    "plt.figure(1) #redshift histogram\n",
    "plt.hist(zcat_not_ser['Z'], bins=50,range=(0,2.2), label='non-serendips')\n",
    "plt.hist(zcat_offser['Z'], bins=50, range=(0,2.2), label='offser')\n",
    "plt.hist(zcat_supser['Z'], bins=50, range=(0,2.2), color='black', label='supser')\n",
    "plt.xlabel('Redshift')\n",
    "plt.ylabel('# of galaxies')\n",
    "plt.legend(prop={'size': 10})\n",
    "plt.title('Redshift Histogram')"
   ]
  },
  {
   "cell_type": "code",
   "execution_count": 10,
   "metadata": {},
   "outputs": [
    {
     "name": "stdout",
     "output_type": "stream",
     "text": [
      "Using matplotlib backend: Qt5Agg\n"
     ]
    },
    {
     "data": {
      "text/plain": [
       "Text(0.5, 1.0, 'Redshift vs Apparent Magnitude (B, R, and I Magnitude)')"
      ]
     },
     "execution_count": 10,
     "metadata": {},
     "output_type": "execute_result"
    }
   ],
   "source": [
    "%matplotlib auto\n",
    "#for closer view of diagram\n",
    "plt.figure(2)\n",
    "plt.plot(zcat_not_ser['Z'], zcat_not_ser['MAGB'], 'bo', ms=2)\n",
    "plt.plot(zcat_offser['Z'], zcat_offser['MAGB'], 'y>', label='>=offser-B', ms=2.5)\n",
    "plt.plot(zcat_supser['Z'], zcat_supser['MAGB'], '>', color='orange', label='>=supser-B', ms=2.5)\n",
    "\n",
    "plt.plot(zcat_not_ser['Z'], zcat_not_ser['MAGR'], 'ro', ms=2)\n",
    "plt.plot(zcat_offser['Z'], zcat_offser['MAGR'], 'y<', label='<=offser-R', ms=2.5)\n",
    "plt.plot(zcat_supser['Z'], zcat_supser['MAGR'], '<', color='orange', label='<=supser-R', ms=2.5)\n",
    "\n",
    "plt.plot(zcat_not_ser['Z'], zcat_not_ser['MAGI'], 'co', ms=2)\n",
    "plt.plot(zcat_offser['Z'], zcat_offser['MAGR'], 'y^', label='^=offser-R', ms=2.5)\n",
    "plt.plot(zcat_supser['Z'], zcat_supser['MAGR'], '^', color='orange', label='^=supser-R', ms=2.5)\n",
    "\n",
    "plt.xlabel('Redshift')\n",
    "plt.ylabel('Apparent Magnitude')\n",
    "plt.legend(prop={'size': 10})\n",
    "plt.title('Redshift vs Apparent Magnitude (B, R, and I Magnitude)')\n"
   ]
  },
  {
   "cell_type": "code",
   "execution_count": 11,
   "metadata": {},
   "outputs": [
    {
     "data": {
      "text/plain": [
       "Text(0.5, 1.0, 'Redshift vs Apparent Magnitude (B, R, and I Magnitude)')"
      ]
     },
     "execution_count": 11,
     "metadata": {},
     "output_type": "execute_result"
    },
    {
     "data": {
      "image/png": "[encoded data removed]",
      "text/plain": [
       "<Figure size 432x288 with 1 Axes>"
      ]
     },
     "metadata": {
      "needs_background": "light"
     },
     "output_type": "display_data"
    }
   ],
   "source": [
    "%matplotlib inline\n",
    "\n",
    "plt.figure(2)\n",
    "plt.plot(zcat_not_ser['Z'], zcat_not_ser['MAGB'], 'bo', ms=2)\n",
    "plt.plot(zcat_offser['Z'], zcat_offser['MAGB'], 'y>', label='>=offser-B', ms=2.5)\n",
    "plt.plot(zcat_supser['Z'], zcat_supser['MAGB'], '>', color='orange', label='>=supser-B', ms=2.5)\n",
    "\n",
    "plt.plot(zcat_not_ser['Z'], zcat_not_ser['MAGR'], 'ro', ms=2)\n",
    "plt.plot(zcat_offser['Z'], zcat_offser['MAGR'], 'y<', label='<=offser-R', ms=2.5)\n",
    "plt.plot(zcat_supser['Z'], zcat_supser['MAGR'], '<', color='orange', label='<=supser-R', ms=2.5)\n",
    "\n",
    "plt.plot(zcat_not_ser['Z'], zcat_not_ser['MAGI'], 'co', ms=2)\n",
    "plt.plot(zcat_offser['Z'], zcat_offser['MAGR'], 'y^', label='^=offser-R', ms=2.5)\n",
    "plt.plot(zcat_supser['Z'], zcat_supser['MAGR'], '^', color='orange', label='^=supser-R', ms=2.5)\n",
    "\n",
    "plt.xlabel('Redshift')\n",
    "plt.ylabel('Apparent Magnitude')\n",
    "plt.legend(prop={'size': 10})\n",
    "plt.title('Redshift vs Apparent Magnitude (B, R, and I Magnitude)')\n"
   ]
  },
  {
   "cell_type": "code",
   "execution_count": 12,
   "metadata": {},
   "outputs": [
    {
     "data": {
      "text/plain": [
       "16331"
      ]
     },
     "execution_count": 12,
     "metadata": {},
     "output_type": "execute_result"
    }
   ],
   "source": [
    "zcat['MAGB'].idxmin() #what row lowest MAGB value is"
   ]
  },
  {
   "cell_type": "code",
   "execution_count": 13,
   "metadata": {},
   "outputs": [
    {
     "data": {
      "text/plain": [
       "OBJNO                                                14023783\n",
       "RA                                                    215.565\n",
       "DEC                                                   53.4433\n",
       "MAGB                                                 -102.337\n",
       "MAGR                                                  23.1196\n",
       "MAGI                                                  23.2013\n",
       "MAGBERR                                                     0\n",
       "MAGRERR                                              0.102024\n",
       "MAGIERR                                              0.578469\n",
       "RG                                                    8.88832\n",
       "E2                                                   0.310066\n",
       "PA                                                    26.0713\n",
       "PGAL                                                       -1\n",
       "SFD_EBV                                            0.00768634\n",
       "M_B                                                      -999\n",
       "UB                                                       -999\n",
       "OBJNAME                                           b'14023783'\n",
       "MASK                                                     1441\n",
       "SLIT                                                      134\n",
       "DATE                                            b'2005-06-07'\n",
       "MJD                                                   53528.2\n",
       "SLITRA                                                215.565\n",
       "SLITDEC                                               53.4429\n",
       "SLITPA                                                 26.071\n",
       "SLITLEN                                                11.076\n",
       "Z                                                     1.20236\n",
       "ZBEST                                                 1.20231\n",
       "ZERR                                              0.000206794\n",
       "ZQUALITY                                                    3\n",
       "CLASS                                               b'NONE  '\n",
       "SUBCLASS                                            b'NONE  '\n",
       "RCHI2                                                       0\n",
       "DOF                                                      5760\n",
       "VDISP                                                     390\n",
       "VDISPERR                                                 9999\n",
       "COMMENT     b'bext                                        ...\n",
       "COMSTR        bext                                           \n",
       "Name: 16331, dtype: object"
      ]
     },
     "execution_count": 13,
     "metadata": {},
     "output_type": "execute_result"
    }
   ],
   "source": [
    "zcat.T[16331] #finding out why the value is so off"
   ]
  },
  {
   "cell_type": "code",
   "execution_count": 14,
   "metadata": {},
   "outputs": [],
   "source": [
    "zcat_bad = zcat[zcat['COMSTR'].str.contains('bext' or 'bsky')] # select rows with comments that refer to bext\n",
    "zcat_not_bad = zcat[zcat['COMSTR'].str.contains('bext' or 'bsky') == False] #rows without bext"
   ]
  },
  {
   "cell_type": "code",
   "execution_count": 15,
   "metadata": {
    "scrolled": true
   },
   "outputs": [
    {
     "name": "stdout",
     "output_type": "stream",
     "text": [
      "Using matplotlib backend: Qt5Agg\n"
     ]
    },
    {
     "data": {
      "text/plain": [
       "Text(0.5, 1.0, 'Redshift vs Apparent Magnitude (B, R, and I Magnitude)')"
      ]
     },
     "execution_count": 15,
     "metadata": {},
     "output_type": "execute_result"
    }
   ],
   "source": [
    "%matplotlib auto\n",
    "#for closer view of diagram\n",
    "plt.figure(2)\n",
    "plt.plot(zcat_not_bad['Z'], zcat_not_bad['MAGB'], 'bo', ms=2)\n",
    "plt.plot(zcat_offser['Z'], zcat_offser['MAGB'], 'y>', label='>=offser-B', ms=2.5)\n",
    "plt.plot(zcat_supser['Z'], zcat_supser['MAGB'], '>', color='orange', label='>=supser-B', ms=2.5)\n",
    "\n",
    "plt.plot(zcat_not_bad['Z'], zcat_not_bad['MAGR'], 'ro', ms=2)\n",
    "plt.plot(zcat_offser['Z'], zcat_offser['MAGR'], 'y<', label='<=offser-R', ms=2.5)\n",
    "plt.plot(zcat_supser['Z'], zcat_supser['MAGR'], '<', color='orange', label='<=supser-R', ms=2.5)\n",
    "\n",
    "plt.plot(zcat_not_bad['Z'], zcat_not_bad['MAGI'], 'co', ms=2)\n",
    "plt.plot(zcat_offser['Z'], zcat_offser['MAGI'], 'y^', label='^=offser-I', ms=2.5)\n",
    "plt.plot(zcat_supser['Z'], zcat_supser['MAGI'], '^', color='orange', label='^=supser-I', ms=2.5)\n",
    "\n",
    "plt.xlabel('Redshift')\n",
    "plt.ylabel('Apparent Magnitude')\n",
    "plt.legend(prop={'size': 10})\n",
    "plt.title('Redshift vs Apparent Magnitude (B, R, and I Magnitude)')"
   ]
  },
  {
   "cell_type": "code",
   "execution_count": 16,
   "metadata": {},
   "outputs": [
    {
     "data": {
      "text/plain": [
       "Text(0.5, 1.0, 'Redshift vs Apparent Magnitude (B, R, and I Magnitude)')"
      ]
     },
     "execution_count": 16,
     "metadata": {},
     "output_type": "execute_result"
    },
    {
     "data": {
      "image/png": "[encoded data removed]",
      "text/plain": [
       "<Figure size 432x288 with 1 Axes>"
      ]
     },
     "metadata": {
      "needs_background": "light"
     },
     "output_type": "display_data"
    }
   ],
   "source": [
    "%matplotlib inline\n",
    "plt.figure(2)\n",
    "plt.plot(zcat_not_bad['Z'], zcat_not_bad['MAGB'], 'bo', ms=2)\n",
    "plt.plot(zcat_offser['Z'], zcat_offser['MAGB'], 'y>', label='>=offser-B', ms=2.5)\n",
    "plt.plot(zcat_supser['Z'], zcat_supser['MAGB'], '>', color='orange', label='>=supser-B', ms=2.5)\n",
    "\n",
    "plt.plot(zcat_not_bad['Z'], zcat_not_bad['MAGR'], 'ro', ms=2)\n",
    "plt.plot(zcat_offser['Z'], zcat_offser['MAGR'], 'y<', label='<=offser-R', ms=2.5)\n",
    "plt.plot(zcat_supser['Z'], zcat_supser['MAGR'], '<', color='orange', label='<=supser-R', ms=2.5)\n",
    "\n",
    "plt.plot(zcat_not_bad['Z'], zcat_not_bad['MAGI'], 'co', ms=2)\n",
    "plt.plot(zcat_offser['Z'], zcat_offser['MAGI'], 'y^', label='^=offser-I', ms=2.5)\n",
    "plt.plot(zcat_supser['Z'], zcat_supser['MAGI'], '^', color='orange', label='^=supser-I', ms=2.5)\n",
    "\n",
    "plt.xlabel('Redshift')\n",
    "plt.ylabel('Apparent Magnitude')\n",
    "plt.legend(prop={'size': 10})\n",
    "plt.title('Redshift vs Apparent Magnitude (B, R, and I Magnitude)')"
   ]
  },
  {
   "cell_type": "code",
   "execution_count": 17,
   "metadata": {},
   "outputs": [
    {
     "data": {
      "text/plain": [
       "13766"
      ]
     },
     "execution_count": 17,
     "metadata": {},
     "output_type": "execute_result"
    }
   ],
   "source": [
    "zcat_not_bad['MAGB'].idxmin() #what row lowest MAGB value is"
   ]
  },
  {
   "cell_type": "code",
   "execution_count": 18,
   "metadata": {
    "scrolled": false
   },
   "outputs": [
    {
     "data": {
      "text/plain": [
       "OBJNO                                                13064204\n",
       "RA                                                    215.382\n",
       "DEC                                                   53.2622\n",
       "MAGB                                                 -101.071\n",
       "MAGR                                                  23.6595\n",
       "MAGI                                                  22.6723\n",
       "MAGBERR                                                     0\n",
       "MAGRERR                                             0.0590822\n",
       "MAGIERR                                             0.0411421\n",
       "RG                                                    2.86647\n",
       "E2                                                   0.120826\n",
       "PA                                                    5.57725\n",
       "PGAL                                                       -1\n",
       "SFD_EBV                                            0.00936212\n",
       "M_B                                                      -999\n",
       "UB                                                       -999\n",
       "OBJNAME                                           b'13064204'\n",
       "MASK                                                     1401\n",
       "SLIT                                                       92\n",
       "DATE                                            b'2006-06-24'\n",
       "MJD                                                   53910.3\n",
       "SLITRA                                                215.382\n",
       "SLITDEC                                               53.2624\n",
       "SLITPA                                                -43.858\n",
       "SLITLEN                                                  5.71\n",
       "Z                                                     1.36389\n",
       "ZBEST                                                 1.36384\n",
       "ZERR                                              0.000138822\n",
       "ZQUALITY                                                    3\n",
       "CLASS                                               b'GALAXY'\n",
       "SUBCLASS                                            b'NONE  '\n",
       "RCHI2                                                0.947285\n",
       "DOF                                                      7414\n",
       "VDISP                                                 341.738\n",
       "VDISPERR                                              46.2637\n",
       "COMMENT     b'                                            ...\n",
       "COMSTR                                                       \n",
       "Name: 13766, dtype: object"
      ]
     },
     "execution_count": 18,
     "metadata": {},
     "output_type": "execute_result"
    }
   ],
   "source": [
    "zcat.T[13766] #finding out why the value is so off"
   ]
  },
  {
   "cell_type": "markdown",
   "metadata": {},
   "source": [
    "**Nothing wrong with the observed galaxy above according to the data and the comments. Ask Raja why this may be!** (Probably a serendip that was not commented on based on the what Mr. Cooper said in emails)\n",
    "\n",
    "*For now use the first graph for the Redshift vs Apparent Magnitude graph since it contains all data*"
   ]
  },
  {
   "cell_type": "code",
   "execution_count": 23,
   "metadata": {},
   "outputs": [
    {
     "name": "stdout",
     "output_type": "stream",
     "text": [
      "Using matplotlib backend: Qt5Agg\n"
     ]
    },
    {
     "data": {
      "text/plain": [
       "Text(0.5, 1.0, 'Rest Frame U–B vs. Rest Frame Asolute MAGB')"
      ]
     },
     "execution_count": 23,
     "metadata": {},
     "output_type": "execute_result"
    }
   ],
   "source": [
    "%matplotlib auto\n",
    "#for closer view of diagram\n",
    "plt.figure(3) #rest frame U–B color vs. rest frame absolute B magnitude\n",
    "plt.plot(zcat_not_ser['M_B'], zcat_not_ser['UB'], 'bo')\n",
    "plt.plot(zcat_offser['Z'], zcat_offser['MAGB'], 'y>', label='>=offser-B')\n",
    "plt.plot(zcat_supser['Z'], zcat_supser['MAGB'], '>', color='orange', label='>=supser-B')\n",
    "plt.xlabel('Absolute MAGB')\n",
    "plt.ylabel('Rest frame U-B')\n",
    "plt.legend(prop={'size': 10})\n",
    "plt.title('Rest Frame U–B vs. Rest Frame Asolute MAGB')"
   ]
  },
  {
   "cell_type": "code",
   "execution_count": 20,
   "metadata": {},
   "outputs": [
    {
     "data": {
      "text/plain": [
       "Text(0.5, 1.0, 'Rest Frame U–B vs. Rest Frame Asolute MAGB')"
      ]
     },
     "execution_count": 20,
     "metadata": {},
     "output_type": "execute_result"
    },
    {
     "data": {
      "image/png": "[encoded data removed]",
      "text/plain": [
       "<Figure size 432x288 with 1 Axes>"
      ]
     },
     "metadata": {
      "needs_background": "light"
     },
     "output_type": "display_data"
    }
   ],
   "source": [
    "%matplotlib inline\n",
    "plt.figure(3) #rest frame U–B color vs. rest frame absolute B magnitude\n",
    "plt.plot(zcat_not_ser['M_B'], zcat_not_ser['UB'], 'bo')\n",
    "plt.plot(zcat_offser['Z'], zcat_offser['MAGB'], 'y>', label='>=offser-B')\n",
    "plt.plot(zcat_supser['Z'], zcat_supser['MAGB'], '>', color='orange', label='>=supser-B')\n",
    "plt.xlabel('Absolute MAGB')\n",
    "plt.ylabel('Rest frame U-B')\n",
    "plt.legend(prop={'size': 10})\n",
    "plt.title('Rest Frame U–B vs. Rest Frame Asolute MAGB')"
   ]
  },
  {
   "cell_type": "code",
   "execution_count": 21,
   "metadata": {},
   "outputs": [
    {
     "data": {
      "text/plain": [
       "5026"
      ]
     },
     "execution_count": 21,
     "metadata": {},
     "output_type": "execute_result"
    }
   ],
   "source": [
    "zcat['M_B'].idxmin() #what row is bright galaxy"
   ]
  },
  {
   "cell_type": "code",
   "execution_count": 22,
   "metadata": {
    "scrolled": false
   },
   "outputs": [
    {
     "data": {
      "text/plain": [
       "OBJNO                                                12005053\n",
       "RA                                                    214.054\n",
       "DEC                                                   52.4412\n",
       "MAGB                                                  23.7084\n",
       "MAGR                                                  22.7148\n",
       "MAGI                                                  22.5456\n",
       "MAGBERR                                             0.0356947\n",
       "MAGRERR                                             0.0286881\n",
       "MAGIERR                                             0.0365901\n",
       "RG                                                    1.89802\n",
       "E2                                                  0.0278272\n",
       "PA                                                   -16.9662\n",
       "PGAL                                                 0.620634\n",
       "SFD_EBV                                             0.0110697\n",
       "M_B                                                      -999\n",
       "UB                                                       -999\n",
       "OBJNAME                                           b'12005053'\n",
       "MASK                                                     1150\n",
       "SLIT                                                      126\n",
       "DATE                                            b'2003-05-04'\n",
       "MJD                                                   52763.3\n",
       "SLITRA                                                214.054\n",
       "SLITDEC                                               52.4412\n",
       "SLITPA                                                 41.142\n",
       "SLITLEN                                                 5.775\n",
       "Z                                                     3.31189\n",
       "ZBEST                                                 3.31186\n",
       "ZERR                                               0.00132336\n",
       "ZQUALITY                                                    4\n",
       "CLASS                                               b'AGN   '\n",
       "SUBCLASS                                            b'NONE  '\n",
       "RCHI2                                                 1.00863\n",
       "DOF                                                      7422\n",
       "VDISP                                                       0\n",
       "VDISPERR                                                    0\n",
       "COMMENT     b'                                            ...\n",
       "COMSTR                                                       \n",
       "Name: 5026, dtype: object"
      ]
     },
     "execution_count": 22,
     "metadata": {},
     "output_type": "execute_result"
    }
   ],
   "source": [
    "zcat.T[5026] #bright galaxy stats"
   ]
  },
  {
   "cell_type": "markdown",
   "metadata": {},
   "source": [
    "**This galaxy is suspiciously bright!**"
   ]
  }
 ],
 "metadata": {
  "kernelspec": {
   "display_name": "Python 3",
   "language": "python",
   "name": "python3"
  },
  "language_info": {
   "codemirror_mode": {
    "name": "ipython",
    "version": 3
   },
   "file_extension": ".py",
   "mimetype": "text/x-python",
   "name": "python",
   "nbconvert_exporter": "python",
   "pygments_lexer": "ipython3",
   "version": "3.7.3"
  }
 },
 "nbformat": 4,
 "nbformat_minor": 2
}
